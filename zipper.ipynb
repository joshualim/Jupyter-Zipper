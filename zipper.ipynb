{
 "cells": [
  {
   "cell_type": "markdown",
   "id": "1595b607",
   "metadata": {},
   "source": [
    "# Zipper\n",
    "***user beware: only run this code if you understand what it does***"
   ]
  },
  {
   "cell_type": "code",
   "execution_count": null,
   "id": "c90bd0b3",
   "metadata": {},
   "outputs": [],
   "source": [
    "# Run this cell to zip just .ipynb in a workspace and subdirectories\n",
    "\n",
    "from datetime import datetime\n",
    "prefix = \"myNoteableWorkspace\"\n",
    "filename = prefix + \"_\" + datetime.now().strftime(\"%Y_%m_%d_%H%M\")\n",
    "!zip -r {filename}.zip ~/*.ipynb    ## zip only .ipynb files\n",
    "!zip -r {filename}.zip ~/*          ## zip **everything** (probably not a good idea, if run recursively it will zip the zip file...)"
   ]
  },
  {
   "cell_type": "markdown",
   "id": "d95a23ad",
   "metadata": {},
   "source": [
    "A better idea below:\n",
    "- this creates a \"backups\" folder to store backups and exclude this from the archive\n",
    "- it's also easy to add other filters for what to include exclude"
   ]
  },
  {
   "cell_type": "code",
   "execution_count": null,
   "id": "21c9e8d6",
   "metadata": {},
   "outputs": [],
   "source": [
    "import os\n",
    "import zipfile\n",
    "from datetime import datetime\n",
    "\n",
    "prefix = \"myNoteableHomeFolder\"\n",
    "zipFilename = prefix + \"_\" + datetime.now().strftime(\"%Y_%m_%d_%H%M\") + \".zip\"\n",
    "\n",
    "# get the path of the home directory\n",
    "home_path = os.path.expanduser(\"~\")\n",
    "\n",
    "# name of the backups folder for storage\n",
    "backup_folderName = 'backups'\n",
    "\n",
    "# get the path of the backups folder\n",
    "backups_path = os.path.join(home_path, backup_folderName)\n",
    "\n",
    "# If no backups folder exists, create one\n",
    "if not os.path.exists(backups_path):\n",
    "    os.makedirs(backups_path)\n",
    "\n",
    "# create an empty zip file in the backups folder\n",
    "zip_file = zipfile.ZipFile(os.path.join(backups_path, zipFilename), \"w\")\n",
    "\n",
    "# walk through the home directory and its subdirectories\n",
    "for root, dirs, files in os.walk(home_path):\n",
    "    \n",
    "    dirs[:] = [d for d in dirs if not d[0] == '.']        # exclude hidden directories\n",
    "    dirs[:] = [d for d in dirs if d != backup_folderName] # exclude backups folder (important to avoid recursion)\n",
    "    # dirs[:] = [d for d in dirs if d != 'test']            # exclude \"test\" folder (edit as needed)\n",
    "    files = [f for f in files if not f[0] == '.']         # exclude hidden files\n",
    "    # files = [f for f in files if f.endswith('.ipynb')]             # include only files with \".ipynb\" extension\n",
    "            \n",
    "    # loop through the files\n",
    "    for file in files:\n",
    "        # get the full path of the file\n",
    "        file_path = os.path.join(root, file)\n",
    "        \n",
    "        # get the relative path of the file from the home directory\n",
    "        #file_rel = os.path.relpath(file_path, home_path)\n",
    "        #print(file_rel)\n",
    "        \n",
    "        # add the file to the zip file\n",
    "        zip_file.write(file_path)\n",
    "        # print(file_path)\n",
    "\n",
    "# close the zip file\n",
    "zip_file.close()\n"
   ]
  },
  {
   "cell_type": "markdown",
   "id": "af713a9b",
   "metadata": {},
   "source": [
    "# Unzipper\n",
    "Run this code to unzip the files. This uses zip rather than tar, as most students will be more familiar with this method."
   ]
  },
  {
   "cell_type": "code",
   "execution_count": null,
   "id": "7993c144",
   "metadata": {},
   "outputs": [],
   "source": [
    "# Run this cell to unzip all zip files in the current directory \n",
    "!unzip '*.zip'"
   ]
  }
 ],
 "metadata": {
  "kernelspec": {
   "display_name": "Python 3 (ipykernel)",
   "language": "python",
   "name": "python3"
  },
  "language_info": {
   "codemirror_mode": {
    "name": "ipython",
    "version": 3
   },
   "file_extension": ".py",
   "mimetype": "text/x-python",
   "name": "python",
   "nbconvert_exporter": "python",
   "pygments_lexer": "ipython3",
   "version": "3.9.13"
  }
 },
 "nbformat": 4,
 "nbformat_minor": 5
}
